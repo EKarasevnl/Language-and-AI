{
 "cells": [
  {
   "cell_type": "markdown",
   "id": "ac69c343",
   "metadata": {},
   "source": [
    "# Source code"
   ]
  },
  {
   "cell_type": "markdown",
   "id": "pMDqeSoAFguy",
   "metadata": {
    "id": "pMDqeSoAFguy"
   },
   "source": [
    "## Connecting to Google Drive (DELETE DELETE DELTE!!!)"
   ]
  },
  {
   "cell_type": "code",
   "execution_count": null,
   "id": "e51d30f7",
   "metadata": {
    "id": "e51d30f7"
   },
   "outputs": [],
   "source": [
    "# INSTALL NEEDED MODULES:\n",
    "\n",
    "!pip install emoji optuna"
   ]
  },
  {
   "cell_type": "code",
   "execution_count": null,
   "id": "xa5Ci0q_bF6o",
   "metadata": {
    "id": "xa5Ci0q_bF6o"
   },
   "outputs": [],
   "source": [
    "# CONNECT TO COLAB AND GO TO THE DATA FOLDER IF NEEDED:\n",
    "\n",
    "from google.colab import drive\n",
    "import os\n",
    "\n",
    "drive.mount('/content/drive')\n",
    "os.chdir('./drive/MyDrive/data/tue_lai')"
   ]
  },
  {
   "cell_type": "markdown",
   "id": "6-eaE3phphav",
   "metadata": {
    "id": "6-eaE3phphav"
   },
   "source": [
    "## Data Pipelines"
   ]
  },
  {
   "cell_type": "code",
   "execution_count": 5,
   "id": "ff8ea73a",
   "metadata": {
    "id": "ff8ea73a",
    "scrolled": true
   },
   "outputs": [],
   "source": [
    "import nltk\n",
    "from nltk.probability import FreqDist\n",
    "from nltk.tokenize import word_tokenize, sent_tokenize\n",
    "from nltk.tag import pos_tag\n",
    "from nltk.corpus import stopwords\n",
    "from nltk.tokenize import word_tokenize, sent_tokenize\n",
    "\n",
    "from sklearn.preprocessing import StandardScaler\n",
    "from sklearn.ensemble import VotingClassifier\n",
    "from sklearn.feature_extraction.text import CountVectorizer\n",
    "from sklearn.linear_model import LogisticRegression, SGDClassifier\n",
    "from sklearn.pipeline import FeatureUnion, Pipeline\n",
    "from sklearn.base import BaseEstimator, TransformerMixin, ClassifierMixin\n",
    "from sklearn.svm import LinearSVC\n",
    "from sklearn.model_selection import cross_val_score, StratifiedKFold\n",
    "\n",
    "import string\n",
    "import emoji\n",
    "import numpy as np\n",
    "\n",
    "from typing import *\n",
    "\n",
    "nltk.download(\"punkt\")\n",
    "nltk.download('stopwords')\n",
    "\n",
    "SEED = 42"
   ]
  },
  {
   "cell_type": "code",
   "execution_count": 6,
   "id": "3a20f966",
   "metadata": {
    "id": "3a20f966"
   },
   "outputs": [],
   "source": [
    "class StylometryFeatureExtractor(BaseEstimator, TransformerMixin):\n",
    "    \"\"\"\n",
    "    A class to extract style features from the provided data.\n",
    "    \"\"\"\n",
    "    def fit(self, X, y=None):\n",
    "        return self\n",
    "\n",
    "    def transform(self, X):\n",
    "        stylometry_features = []\n",
    "        for text in X:\n",
    "            # Tokenize sentences and words\n",
    "            sentences = [word_tokenize(sentence) for sentence in sent_tokenize(text)]\n",
    "            words = [word for sentence in sentences for word in sentence]\n",
    "\n",
    "            # Basic stylometry features\n",
    "            features = {\n",
    "                'sentence_count': len(sentences),\n",
    "                'word_count': len(words),\n",
    "                'avg_sentence_length': len(words) / len(sentences) if len(sentences) > 0 else 0,\n",
    "                'avg_word_length': sum(len(word) for word in words) / len(words) if len(words) > 0 else 0,\n",
    "                'num_punctuation': sum(1 for char in text if char in string.punctuation),\n",
    "                'num_uppercase': sum(1 for char in text if char.isupper()),\n",
    "                'num_digits': sum(1 for char in text if char.isdigit()),\n",
    "                'num_emojis': len([char for char in text if char in emoji.EMOJI_DATA])\n",
    "            }\n",
    "\n",
    "            stylometry_features.append(features)\n",
    "\n",
    "        return pd.DataFrame(stylometry_features)"
   ]
  },
  {
   "cell_type": "code",
   "execution_count": 7,
   "id": "-ZR_uLE4yUqb",
   "metadata": {
    "id": "-ZR_uLE4yUqb"
   },
   "outputs": [],
   "source": [
    "def split_transform(transformer: Functional, \n",
    "                    X_train: np.ndarray, y_train: np.ndarray, \n",
    "                    X_test: np.ndarray, y_test: np.ndarray) -> Dict:\n",
    "    \"\"\"\n",
    "    Transform the given data with the given transformer and return in dict.\n",
    "    \"\"\"\n",
    "    output = dict()\n",
    "\n",
    "    output['X_train'] = transformer.fit_transform(X_train)\n",
    "    output['X_test'] = transformer.transform(X_test)\n",
    "\n",
    "    output['y_train'] = y_train\n",
    "    output['y_test'] = y_test\n",
    "\n",
    "    return output\n",
    "\n",
    "\n",
    "def get_fold_transformed(X: np.ndarray, y: np.ndarray, transformer: Functional, k: int = 3) -> List:\n",
    "    \"\"\"\n",
    "    Get a list of k folds of the  the given data with the given transformer and return in dict.\n",
    "    \"\"\"\n",
    "    cv = StratifiedKFold(n_splits=k, shuffle=True, random_state=SEED)\n",
    "    result = []\n",
    "\n",
    "    for train_index, test_index in cv.split(X, y):\n",
    "        X_train, X_test = X[train_index], X[test_index]\n",
    "        y_train, y_test = y[train_index], y[test_index]\n",
    "\n",
    "        result.append(split_transform(transformer,\n",
    "                                      X_train, y_train,\n",
    "                                      X_test, y_test))\n",
    "    return result\n",
    "\n",
    "def get_pipeline_data(X: np.ndarray, y: np.ndarray) -> Dict[str: List[Dict[]]]:\n",
    "    \"\"\"\n",
    "    Transform the raw data with user posts and target labels with two pre-processing methods:\n",
    "    1) BoW and 2) BoW + StylometryFeatureExtractor. \n",
    "    Each preprocessing is applied over 3 random folds for cross validation. Store the 3 folds in lists.\n",
    "    \"\"\"\n",
    "    result = dict()\n",
    "\n",
    "    bow_transformer = Pipeline([\n",
    "    ('bow', CountVectorizer(stop_words='english')),\n",
    "    ('scaler', StandardScaler(with_mean=False))\n",
    "    ])\n",
    "    result['bow'] = get_fold_transformed(X, y, bow_transformer)\n",
    "\n",
    "    style_bow_transformer = Pipeline([\n",
    "    ('features', FeatureUnion([\n",
    "        ('text', CountVectorizer(stop_words='english')),\n",
    "        ('stylometry', StylometryFeatureExtractor())\n",
    "    ])),\n",
    "    ('scaler', StandardScaler(with_mean=False))\n",
    "    ])\n",
    "    result['style_bow'] = get_fold_transformed(X, y, style_bow_transformer)\n",
    "\n",
    "    return result"
   ]
  },
  {
   "cell_type": "code",
   "execution_count": 10,
   "id": "633eca65",
   "metadata": {},
   "outputs": [],
   "source": [
    "from sklearn.preprocessing import LabelEncoder\n",
    "from sklearn.model_selection import train_test_split\n",
    "import scipy.sparse\n",
    "import numpy as np\n",
    "import pandas as pd\n",
    "import os\n",
    "import pickle\n",
    "\n",
    "\n",
    "def label_encode(df: pd.DataFrame, col_name: str):\n",
    "    \"\"\"\n",
    "    Label encode the given column of the given dataframe.\n",
    "    \"\"\"\n",
    "    label_encoder = LabelEncoder()\n",
    "    df[col_name] = label_encoder.fit_transform(df[col_name])\n",
    "    return df, label_encoder\n",
    "\n",
    "\n",
    "def save_data(pipelines_data: dict, path: str) -> None:\n",
    "    \"\"\"\n",
    "    Save the data loaded with get_pipeline_data() locally to .np and .npz files.\n",
    "    \"\"\"\n",
    "    if not os.path.exists(path):\n",
    "        os.mkdir(path)\n",
    "\n",
    "    for data_type in pipelines_data.keys():\n",
    "        if not os.path.exists(f'{path}/{data_type}'):\n",
    "                os.mkdir(f'{path}/{data_type}')\n",
    "\n",
    "        for i, fold in enumerate(pipelines_data[data_type]):\n",
    "\n",
    "            if not os.path.exists(f'{path}/{data_type}/{i}'):\n",
    "                os.mkdir(f'{path}/{data_type}/{i}')\n",
    "\n",
    "            for split_type in fold.keys():\n",
    "                file_path = f'{path}/{data_type}/{i}/{split_type}'\n",
    "                matrix = fold[split_type]\n",
    "\n",
    "                if isinstance(matrix, np.ndarray):\n",
    "                    with open(file_path + '.np', 'wb') as f:\n",
    "                        np.save(f, matrix)\n",
    "                else:\n",
    "                    scipy.sparse.save_npz(file_path + '.npz', matrix)\n",
    "\n",
    "def load_from_saved(path: str) -> Dict:\n",
    "    \"\"\"\n",
    "    Save the pipeline data from local dir of .np and .npz files.\n",
    "    \"\"\"\n",
    "    result = dict()\n",
    "    for data_type in os.listdir(path):\n",
    "        result[data_type] = []\n",
    "        data_type_path = path + '/' + data_type\n",
    "\n",
    "        for idx in os.listdir(data_type_path):\n",
    "            result[data_type].append(dict())\n",
    "            fold_path = data_type_path + '/' + idx\n",
    "\n",
    "            for split_file in os.listdir(fold_path):\n",
    "                print(split_file)\n",
    "                split_type, extension = split_file.split('.')\n",
    "                split_path = fold_path + '/' + split_file\n",
    "\n",
    "                if extension == 'np':\n",
    "                    result[data_type][-1][split_type] = np.load(split_path)\n",
    "                else:\n",
    "                    sparse_matrix = scipy.sparse.load_npz(split_path)\n",
    "                    result[data_type][-1][split_type] = sparse_matrix\n",
    "    return result\n",
    "\n",
    "\n",
    "def get_num_classes(path, target_col) -> int:\n",
    "    data = pd.read_csv(data_path)\n",
    "    num_classes = len(data[target_col].value_counts())\n",
    "    return num_classes\n",
    "\n",
    "\n",
    "def get_min_class_size(path, target_col) -> int:\n",
    "    data = pd.read_csv(data_path)\n",
    "    min_class_size = data[target_col].value_counts().min()\n",
    "    return min_class_size\n",
    "\n",
    "\n",
    "def get_data(config: dict) -> Dict, List[str]:\n",
    "    \"\"\"\n",
    "    Using a given dataset config, load from saved if it's already calculated. \n",
    "    Otherwise, calculate and save locally.\n",
    "    \"\"\"\n",
    "    DATASET_NAME = config['DATASET_NAME']\n",
    "    DATASET_PATH = config['DATASET_PATH']\n",
    "    TARGET_COL = config['TARGET_COL']\n",
    "    INDEPENDENT_COL = config['INDEPENDENT_COL']\n",
    "    MIN_CLASS_SIZE = get_min_class_size(DATASET_PATH, TARGET_COL)\n",
    "\n",
    "    if os.path.exists(f'./pipeline_data_{DATASET_NAME}'):\n",
    "        print('Loading from saved!')\n",
    "        pipelines_data = load_from_saved(f'./pipeline_data_{DATASET_NAME}')\n",
    "        target_classes = list(df[TARGET_COL].unique())\n",
    "    else:\n",
    "        print('Calculating all again!')\n",
    "        data = pd.read_csv(DATASET_PATH)\n",
    "\n",
    "        data_samples = []\n",
    "        for val in data[TARGET_COL].unique():\n",
    "            data_samples.append(data[data[TARGET_COL] == val].sample(MIN_CLASS_SIZE))\n",
    "        data = pd.concat(data_samples)\n",
    "        \n",
    "        df, le = label_encode(data, TARGET_COL)\n",
    "        target_classes = le.classes_\n",
    "        \n",
    "        X = df[INDEPENDENT_COL].copy().values\n",
    "        y = df[TARGET_COL].copy().values\n",
    "        \n",
    "        pipelines_data = get_pipeline_data(X, y)\n",
    "        save_data(pipelines_data, f'./pipeline_data_{DATASET_NAME}')\n",
    "        print(f'Saved to {f'./pipeline_data_{DATASET_NAME}'} !')\n",
    "    return pipelines_data, target_classes"
   ]
  },
  {
   "cell_type": "markdown",
   "id": "8c34332e",
   "metadata": {
    "id": "8c34332e"
   },
   "source": [
    "## Evaluations"
   ]
  },
  {
   "cell_type": "code",
   "execution_count": 12,
   "id": "fc5c0743",
   "metadata": {
    "id": "fc5c0743"
   },
   "outputs": [],
   "source": [
    "from sklearn.metrics import confusion_matrix, classification_report, f1_score\n",
    "import matplotlib.pyplot as plt\n",
    "import numpy as np\n",
    "\n",
    "\n",
    "def eval_preds(y_pred, y_true, classes=, normalize=True, cmap=plt.cm.Blues):\n",
    "    \"\"\"\n",
    "    Show the confusion matrix and a classification report of predictions \n",
    "    from given true and the predicted value lists.\n",
    "    \"\"\"\n",
    "    \n",
    "    print(classification_report(y_true, y_pred))\n",
    "\n",
    "    cm = confusion_matrix(y_true, y_pred)\n",
    "\n",
    "    if normalize:\n",
    "        cm = cm.astype('float') / cm.sum(axis=1)[:, np.newaxis]\n",
    "        title = 'Normalized Confusion Matrix'\n",
    "    else:\n",
    "        title = 'Confusion Matrix'\n",
    "\n",
    "    fig, ax = plt.subplots()\n",
    "    im = ax.imshow(cm, interpolation='nearest', cmap=cmap)\n",
    "    ax.figure.colorbar(im, ax=ax)\n",
    "    ax.set(xticks=np.arange(cm.shape[1]),\n",
    "           yticks=np.arange(cm.shape[0]),\n",
    "           xticklabels=classes, yticklabels=classes,\n",
    "           title=title,\n",
    "           ylabel='True label',\n",
    "           xlabel='Predicted label')\n",
    "\n",
    "    plt.setp(ax.get_xticklabels(), rotation=45, ha=\"right\", rotation_mode=\"anchor\")\n",
    "\n",
    "    fmt = '.2f' if normalize else 'd'\n",
    "    thresh = cm.max() / 2.\n",
    "    for i in range(cm.shape[0]):\n",
    "        for j in range(cm.shape[1]):\n",
    "            ax.text(j, i, format(cm[i, j], fmt),\n",
    "                    ha=\"center\", va=\"center\",\n",
    "                    color=\"white\" if cm[i, j] > thresh else \"black\")\n",
    "\n",
    "    fig.tight_layout()\n",
    "    plt.show()\n",
    "\n",
    "\n",
    "def evaluate_clf(clf, X, y_true, classes, normalize=True, cmap=plt.cm.Blues):\n",
    "    \"\"\"\n",
    "    Show the confusion matrix and a classification report of the given classifier \n",
    "    from given classifier, true value labels and the corresponding X array.\n",
    "    \"\"\"\n",
    "    y_pred = clf.predict(X)\n",
    "    eval_preds(y_pred, y_true, classes, normalize, cmap)"
   ]
  },
  {
   "cell_type": "markdown",
   "id": "fbf6a871",
   "metadata": {},
   "source": [
    "# Fine Tuning and Cross Validation"
   ]
  },
  {
   "cell_type": "code",
   "execution_count": 12,
   "id": "QlVMT504v48C",
   "metadata": {
    "id": "QlVMT504v48C"
   },
   "outputs": [],
   "source": [
    "import optuna\n",
    "from sklearn.feature_extraction.text import TfidfVectorizer\n",
    "from sklearn.ensemble import RandomForestClassifier\n",
    "from sklearn.model_selection import cross_val_score\n",
    "from sklearn.metrics import accuracy_score\n",
    "\n",
    "from xgboost import XGBClassifier\n",
    "import xgboost as xgb\n",
    "from functools import partial\n",
    "\n",
    "\n",
    "optuna.logging.set_verbosity(optuna.logging.WARNING)\n",
    "xgb.set_config(verbosity=1)\n",
    "SEED = 42\n",
    "\n",
    "def rf_objective(trial, X, y) -> np.float:\n",
    "    \"\"\"\n",
    "    Objective function of RandomForestClassifier for optuna fine-tuning.\n",
    "    \"\"\"\n",
    "    params = {\n",
    "        'n_estimators': trial.suggest_int('n_estimators', 10, 25),\n",
    "        'max_depth': trial.suggest_int('max_depth', 2, 5)\n",
    "    }\n",
    "\n",
    "    model = RandomForestClassifier(**params, random_state=SEED)\n",
    "    inner_cv = StratifiedKFold(n_splits=3, shuffle=True, random_state=SEED)\n",
    "    inner_scores = cross_val_score(model, X=X, y=y, cv=inner_cv, scoring='accuracy')\n",
    "\n",
    "    return np.mean(inner_scores)\n",
    "\n",
    "def xgb_objective(trial, X, y, num_class, use_gpu=True) -> np.float:\n",
    "    \"\"\"\n",
    "    Objective function of XGBClassifier for optuna fine-tuning.\n",
    "    \"\"\"\n",
    "    params = {\n",
    "        'objective': 'multi:softmax',\n",
    "        'num_class': num_class,\n",
    "        'max_depth': trial.suggest_int('max_depth', 2, 5),\n",
    "        'n_estimators': trial.suggest_int('n_estimators', 10, 25),\n",
    "        'n_jobs': -1 if not use_gpu else None,\n",
    "        'device': \"cuda\" if use_gpu else None\n",
    "    }\n",
    "\n",
    "    model = XGBClassifier(**params, random_state=SEED)\n",
    "    inner_cv = StratifiedKFold(n_splits=3, shuffle=True, random_state=SEED)\n",
    "    inner_scores = cross_val_score(model, X=X, y=y, cv=inner_cv, scoring='accuracy')\n",
    "\n",
    "    return np.mean(inner_scores)"
   ]
  },
  {
   "cell_type": "code",
   "execution_count": 14,
   "id": "RHAasZ_wvRPs",
   "metadata": {
    "id": "RHAasZ_wvRPs"
   },
   "outputs": [],
   "source": [
    "def rf_finetuning(X, y):\n",
    "    \"\"\"\n",
    "    Apply hyperparameter fine-tuning of RandomForestClassifier with Optuna.\n",
    "    \"\"\"\n",
    "    partial_objective_rf = partial(rf_objective, X=X, y=y)\n",
    "    study = optuna.create_study(direction='maximize')\n",
    "    study.optimize(partial_objective_rf, n_trials=100, seed=SEED)\n",
    "\n",
    "    best_model = RandomForestClassifier(random_state=SEED, **study.best_params)\n",
    "    return best_model\n",
    "\n",
    "def xgb_finetuning(X, y, num_class):\n",
    "    \"\"\"\n",
    "    Apply hyperparameter fine-tuning of XGBClassifier with Optuna.\n",
    "    \"\"\"\n",
    "\n",
    "    partial_objective_xgb = partial(xgb_objective, X=X, y=y, num_class=num_class)\n",
    "    study = optuna.create_study(direction='maximize')\n",
    "    study.optimize(partial_objective_xgb, n_trials=100, seed=SEED)\n",
    "\n",
    "    best_model = XGBClassifier(random_state=SEED, **study.best_params)\n",
    "    return best_model"
   ]
  },
  {
   "cell_type": "code",
   "execution_count": 15,
   "id": "4xZJ6-giqn5g",
   "metadata": {
    "id": "4xZJ6-giqn5g"
   },
   "outputs": [],
   "source": [
    "def nested_cv_rf(folds_list: List[Dict]):\n",
    "    \"\"\"\n",
    "    Fine-tune RandomForestClassifier fine-tuning of RandomForestClassifier with Optuna \n",
    "    and Nested Cross Validation on the selected folds data. Finally, show evaluations of best found hyperparameters.\n",
    "    \"\"\"\n",
    "    all_preds = []\n",
    "    all_y_true = []\n",
    "    for fold in folds_data:\n",
    "        X_train, y_train = fold['X_train'], fold['y_train']\n",
    "        X_test, y_test = fold['X_test'], fold['y_test']\n",
    "\n",
    "        best_model = rf_finetuning(X_train, y_train)\n",
    "        best_model.fit(X_train, y_train, random_seed=SEED)\n",
    "        y_pred = best_model.predict(X_test)\n",
    "\n",
    "        all_preds.extend(y_pred)\n",
    "        all_y_true.extend(y_test)\n",
    "\n",
    "    eval_preds(all_preds, all_y_true)\n",
    "\n",
    "def nested_cv_xgb(folds_list: List[Dict], num_class: int):\n",
    "    \"\"\"\n",
    "    Fine-tune RandomForestClassifier fine-tuning of XGBClassifier with Optuna \n",
    "    and Nested Cross Validation on the given folds data. Finally, show evaluations of best found hyperparameters.\n",
    "    \"\"\"\n",
    "    all_preds = []\n",
    "    all_y_true = []\n",
    "    for fold in pipelines_data[data_type]:\n",
    "        X_train, y_train = fold['X_train'], fold['y_train']\n",
    "        X_test, y_test = fold['X_test'], fold['y_test']\n",
    "\n",
    "        best_model = xgb_finetuning(X_train, y_train, num_class)\n",
    "        best_model.fit(X_train, y_train, random_seed=SEED)\n",
    "        y_pred = best_model.predict(X_test)\n",
    "\n",
    "        all_preds.extend(y_pred)\n",
    "        all_y_true.extend(y_test)\n",
    "\n",
    "    eval_preds(all_preds, all_y_true)"
   ]
  },
  {
   "cell_type": "markdown",
   "id": "c043ca8a",
   "metadata": {},
   "source": [
    "# Political Leaning Dataset"
   ]
  },
  {
   "cell_type": "code",
   "execution_count": null,
   "id": "410289e3",
   "metadata": {},
   "outputs": [],
   "source": [
    "config_political = {\n",
    "    \"DATASET_NAME\": \"political_leaning\",\n",
    "    \"DATASET_PATH\": \"./political_leaning.csv\",\n",
    "    \"TARGET_COL\": \"political_leaning\",\n",
    "    \"INDEPENDENT_COL\": \"post\",\n",
    "    \"NUM_CLASSES\": get_num_classes(path=\"./political_leaning.csv\", target_col='political_leaning')\n",
    "}\n",
    "pipeline_data, target_classes = get_data(config_political)"
   ]
  },
  {
   "cell_type": "markdown",
   "id": "TOCA1B4Kn2rw",
   "metadata": {
    "id": "TOCA1B4Kn2rw"
   },
   "source": [
    "### No Style SVM"
   ]
  },
  {
   "cell_type": "code",
   "execution_count": null,
   "id": "_VIqemcjn05a",
   "metadata": {
    "colab": {
     "base_uri": "https://localhost:8080/",
     "height": 721
    },
    "id": "_VIqemcjn05a",
    "outputId": "749459fa-b510-4d7f-b357-1e5dd3991031"
   },
   "outputs": [
    {
     "name": "stderr",
     "output_type": "stream",
     "text": [
      "/usr/local/lib/python3.10/dist-packages/sklearn/svm/_base.py:1244: ConvergenceWarning: Liblinear failed to converge, increase the number of iterations.\n",
      "  warnings.warn(\n"
     ]
    },
    {
     "name": "stdout",
     "output_type": "stream",
     "text": [
      "              precision    recall  f1-score   support\n",
      "\n",
      "           0       0.71      0.68      0.70      4859\n",
      "           1       0.75      0.74      0.75      4858\n",
      "           2       0.74      0.77      0.75      4859\n",
      "\n",
      "    accuracy                           0.73     14576\n",
      "   macro avg       0.73      0.73      0.73     14576\n",
      "weighted avg       0.73      0.73      0.73     14576\n",
      "\n"
     ]
    },
    {
     "data": {
      "image/png": "[encoded data removed]",
      "text/plain": [
       "<Figure size 640x480 with 2 Axes>"
      ]
     },
     "metadata": {},
     "output_type": "display_data"
    }
   ],
   "source": [
    "data_type = 'bow'\n",
    "\n",
    "clf = LinearSVC(max_iter = 10)\n",
    "clf.fit(pipelines_data[data_type][0]['X_train'], pipelines_data[data_type][0]['y_train'], random_seed=SEED)\n",
    "\n",
    "evaluate_clf(clf=clf,\n",
    "             X=pipelines_data[data_type][0]['X_test'],\n",
    "             y_true=pipelines_data[data_type][0]['y_test'],\n",
    "             classes=target_classes)"
   ]
  },
  {
   "cell_type": "markdown",
   "id": "eBaXQHDiFTVu",
   "metadata": {
    "id": "eBaXQHDiFTVu"
   },
   "source": [
    "### No Style RF/XGB"
   ]
  },
  {
   "cell_type": "code",
   "execution_count": null,
   "id": "kwtqdzdQFYSI",
   "metadata": {
    "colab": {
     "base_uri": "https://localhost:8080/",
     "height": 666
    },
    "id": "kwtqdzdQFYSI",
    "outputId": "e8d5f0d9-d3c1-4ab4-8a37-c7f6724e732f"
   },
   "outputs": [
    {
     "name": "stdout",
     "output_type": "stream",
     "text": [
      "              precision    recall  f1-score   support\n",
      "\n",
      "           0       0.74      0.13      0.22     14576\n",
      "           1       0.52      0.45      0.48     14576\n",
      "           2       0.41      0.81      0.54     14576\n",
      "\n",
      "    accuracy                           0.46     43728\n",
      "   macro avg       0.56      0.46      0.41     43728\n",
      "weighted avg       0.56      0.46      0.41     43728\n",
      "\n"
     ]
    },
    {
     "data": {
      "image/png": "[encoded data removed]",
      "text/plain": [
       "<Figure size 640x480 with 2 Axes>"
      ]
     },
     "metadata": {},
     "output_type": "display_data"
    }
   ],
   "source": [
    "nested_cv_rf(pipelines_data['bow'])"
   ]
  },
  {
   "cell_type": "code",
   "execution_count": null,
   "id": "wDUluzePGkoa",
   "metadata": {
    "id": "wDUluzePGkoa"
   },
   "outputs": [],
   "source": [
    "nested_cv_xgb(pipelines_data['bow'], num_class=config[\"NUM_CLASSES\"])"
   ]
  },
  {
   "cell_type": "markdown",
   "id": "cHEhmfuwFOTE",
   "metadata": {
    "id": "cHEhmfuwFOTE"
   },
   "source": [
    "### Style SVM"
   ]
  },
  {
   "cell_type": "code",
   "execution_count": null,
   "id": "Cjm4-886FNJW",
   "metadata": {
    "id": "Cjm4-886FNJW"
   },
   "outputs": [],
   "source": [
    "data_type = 'style_bow'\n",
    "clf = LinearSVC()\n",
    "clf.fit(pipelines_data[data_type][0]['X_train'], pipelines_data[data_type][0]['y_train'], random_seed=SEED)\n",
    "evaluate_clf(clf=clf,\n",
    "             X=pipelines_data[data_type][0]['X_test'],\n",
    "             y_true=pipelines_data[data_type][0]['y_test'],\n",
    "             classes=target_classes)"
   ]
  },
  {
   "cell_type": "markdown",
   "id": "17634e53",
   "metadata": {
    "id": "17634e53"
   },
   "source": [
    "### Style RF/XGB"
   ]
  },
  {
   "cell_type": "code",
   "execution_count": null,
   "id": "xwv16fQhxMfX",
   "metadata": {
    "id": "xwv16fQhxMfX"
   },
   "outputs": [],
   "source": [
    "nested_cv_rf(pipelines_data['style_bow'])"
   ]
  },
  {
   "cell_type": "code",
   "execution_count": null,
   "id": "C5tViMZZKNIL",
   "metadata": {
    "id": "C5tViMZZKNIL"
   },
   "outputs": [],
   "source": [
    "nested_cv_xgb(pipelines_data['style_bow'], num_class=config[\"NUM_CLASSES\"])"
   ]
  },
  {
   "cell_type": "markdown",
   "id": "qEJ8_1uBCn3u",
   "metadata": {
    "id": "qEJ8_1uBCn3u"
   },
   "source": [
    "# Feeling/Thinking Dataset"
   ]
  },
  {
   "cell_type": "code",
   "execution_count": 17,
   "id": "AiXDLRluCqyq",
   "metadata": {
    "id": "AiXDLRluCqyq"
   },
   "outputs": [],
   "source": [
    "config_feeling = {\n",
    "    \"DATASET_NAME\": \"feeling_thinking\",\n",
    "    \"DATASET_PATH\": \"./feeling_thinking.csv\",\n",
    "    \"TARGET_COL\": \"feeling\",\n",
    "    \"INDEPENDENT_COL\": \"post\",\n",
    "    \"NUM_CLASSES\": get_num_classes(path=\"./feeling_thinking.csv\", target_col='feeling')\n",
    "}\n",
    "pipeline_data, target_classes = get_data(config_feeling)"
   ]
  },
  {
   "cell_type": "markdown",
   "id": "r4-exnXmCWEf",
   "metadata": {
    "id": "r4-exnXmCWEf"
   },
   "source": [
    "### No Style SVM"
   ]
  },
  {
   "cell_type": "code",
   "execution_count": null,
   "id": "DFri5kb2CWEf",
   "metadata": {
    "id": "DFri5kb2CWEf"
   },
   "outputs": [],
   "source": [
    "data_type = 'bow'\n",
    "\n",
    "clf = LinearSVC(max_iter = 10)\n",
    "clf.fit(pipelines_data[data_type][0]['X_train'], pipelines_data[data_type][0]['y_train'], random_seed=SEED)\n",
    "\n",
    "evaluate_clf(clf=clf,\n",
    "             X=pipelines_data[data_type][0]['X_test'],\n",
    "             y_true=pipelines_data[data_type][0]['y_test'],\n",
    "             classes=target_classes)"
   ]
  },
  {
   "cell_type": "markdown",
   "id": "11wgVTsWCWEf",
   "metadata": {
    "id": "11wgVTsWCWEf"
   },
   "source": [
    "### No Style RF/XGB"
   ]
  },
  {
   "cell_type": "code",
   "execution_count": null,
   "id": "DvQr2aUoCWEf",
   "metadata": {
    "id": "DvQr2aUoCWEf"
   },
   "outputs": [],
   "source": [
    "nested_cv_rf(pipelines_data['bow'])"
   ]
  },
  {
   "cell_type": "code",
   "execution_count": null,
   "id": "tCiEJ4i3CWEf",
   "metadata": {
    "id": "tCiEJ4i3CWEf"
   },
   "outputs": [],
   "source": [
    "nested_cv_xgb(pipelines_data['bow'], num_class=config[\"NUM_CLASSES\"])"
   ]
  },
  {
   "cell_type": "markdown",
   "id": "j16XqrifCWEf",
   "metadata": {
    "id": "j16XqrifCWEf"
   },
   "source": [
    "### Style SVM"
   ]
  },
  {
   "cell_type": "code",
   "execution_count": null,
   "id": "7x16VRpHCWEf",
   "metadata": {
    "id": "7x16VRpHCWEf"
   },
   "outputs": [],
   "source": [
    "data_type = 'style_bow'\n",
    "\n",
    "clf = LinearSVC()\n",
    "clf.fit(pipelines_data[data_type][0]['X_train'], pipelines_data[data_type][0]['y_train'], random_seed=SEED)\n",
    "\n",
    "evaluate_clf(clf=clf,\n",
    "             X=pipelines_data[data_type][0]['X_test'],\n",
    "             y_true=pipelines_data[data_type][0]['y_test'],\n",
    "             classes=target_classes)"
   ]
  },
  {
   "cell_type": "markdown",
   "id": "FkL9Yy2NCWEf",
   "metadata": {
    "id": "FkL9Yy2NCWEf"
   },
   "source": [
    "### Style RF/XGB"
   ]
  },
  {
   "cell_type": "code",
   "execution_count": null,
   "id": "AOb9TrS1CWEf",
   "metadata": {
    "id": "AOb9TrS1CWEf"
   },
   "outputs": [],
   "source": [
    "nested_cv_rf(pipelines_data['style_bow'])"
   ]
  },
  {
   "cell_type": "code",
   "execution_count": null,
   "id": "Jsvqmyt0CWEg",
   "metadata": {
    "id": "Jsvqmyt0CWEg"
   },
   "outputs": [],
   "source": [
    "nested_cv_xgb(pipelines_data['style_bow'], num_class=config[\"NUM_CLASSES\"])"
   ]
  },
  {
   "cell_type": "markdown",
   "id": "g48jsMGjDeex",
   "metadata": {
    "id": "g48jsMGjDeex"
   },
   "source": [
    "# Gender Dataset"
   ]
  },
  {
   "cell_type": "code",
   "execution_count": null,
   "id": "03YSGCO-Df6w",
   "metadata": {
    "id": "03YSGCO-Df6w"
   },
   "outputs": [],
   "source": [
    "config_gender = {\n",
    "    \"DATASET_NAME\": \"gender\",\n",
    "    \"DATASET_PATH\": \"./gender.csv\",\n",
    "    \"TARGET_COL\": \"female\",\n",
    "    \"INDEPENDENT_COL\": \"post\",\n",
    "    \"NUM_CLASSES\": get_num_classes(path=\"./gender.csv\", target_col='female')\n",
    "}\n",
    "pipeline_data, target_classes = get_data(config_gender)"
   ]
  },
  {
   "cell_type": "markdown",
   "id": "WIk-XZ06Df6w",
   "metadata": {
    "id": "WIk-XZ06Df6w"
   },
   "source": [
    "### No Style SVM"
   ]
  },
  {
   "cell_type": "code",
   "execution_count": null,
   "id": "KGqk93fKDf6w",
   "metadata": {
    "id": "KGqk93fKDf6w"
   },
   "outputs": [],
   "source": [
    "data_type = 'bow'\n",
    "\n",
    "clf = LinearSVC(max_iter = 100)\n",
    "clf.fit(pipelines_data[data_type][0]['X_train'], pipelines_data[data_type][0]['y_train'], random_seed=SEED)\n",
    "\n",
    "evaluate_clf(clf=clf,\n",
    "             X=pipelines_data[data_type][0]['X_test'],\n",
    "             y_true=pipelines_data[data_type][0]['y_test'],\n",
    "             classes=target_classes)"
   ]
  },
  {
   "cell_type": "markdown",
   "id": "KIbYMJt7Df6x",
   "metadata": {
    "id": "KIbYMJt7Df6x"
   },
   "source": [
    "### No Style RF/XGB"
   ]
  },
  {
   "cell_type": "code",
   "execution_count": null,
   "id": "0d53ieY3Df6x",
   "metadata": {
    "id": "0d53ieY3Df6x"
   },
   "outputs": [],
   "source": [
    "nested_cv_rf(pipelines_data['bow'])"
   ]
  },
  {
   "cell_type": "code",
   "execution_count": null,
   "id": "pDpbqt5qDf6x",
   "metadata": {
    "id": "pDpbqt5qDf6x"
   },
   "outputs": [],
   "source": [
    "nested_cv_xgb(pipelines_data['bow'], num_class=config[\"NUM_CLASSES\"])"
   ]
  },
  {
   "cell_type": "markdown",
   "id": "qnw2urJdDf6x",
   "metadata": {
    "id": "qnw2urJdDf6x"
   },
   "source": [
    "### Style SVM"
   ]
  },
  {
   "cell_type": "code",
   "execution_count": null,
   "id": "UaBdNFbGDf6x",
   "metadata": {
    "id": "UaBdNFbGDf6x"
   },
   "outputs": [],
   "source": [
    "data_type = 'style_bow'\n",
    "\n",
    "clf = LinearSVC()\n",
    "clf.fit(pipelines_data[data_type][0]['X_train'], pipelines_data[data_type][0]['y_train'], random_seed=SEED)\n",
    "\n",
    "evaluate_clf(clf=clf,\n",
    "             X=pipelines_data[data_type][0]['X_test'],\n",
    "             y_true=pipelines_data[data_type][0]['y_test'],\n",
    "             classes=target_classes)"
   ]
  },
  {
   "cell_type": "markdown",
   "id": "V04QuJTODf6x",
   "metadata": {
    "id": "V04QuJTODf6x"
   },
   "source": [
    "### Style RF/XGB"
   ]
  },
  {
   "cell_type": "code",
   "execution_count": null,
   "id": "tgEFcP2tDf6x",
   "metadata": {
    "id": "tgEFcP2tDf6x"
   },
   "outputs": [],
   "source": [
    "nested_cv_rf(pipelines_data['style_bow'])"
   ]
  },
  {
   "cell_type": "code",
   "execution_count": null,
   "id": "i1Eo6a7aDf6x",
   "metadata": {
    "id": "i1Eo6a7aDf6x"
   },
   "outputs": [],
   "source": [
    "nested_cv_xgb(pipelines_data['style_bow'], num_class=config[\"NUM_CLASSES\"])"
   ]
  }
 ],
 "metadata": {
  "accelerator": "GPU",
  "colab": {
   "collapsed_sections": [
    "e090ae22",
    "6-eaE3phphav",
    "8c34332e",
    "1zEU7CW9p729",
    "TOCA1B4Kn2rw",
    "cHEhmfuwFOTE",
    "17634e53"
   ],
   "machine_shape": "hm",
   "provenance": []
  },
  "kernelspec": {
   "display_name": "Python 3 (ipykernel)",
   "language": "python",
   "name": "python3"
  },
  "language_info": {
   "codemirror_mode": {
    "name": "ipython",
    "version": 3
   },
   "file_extension": ".py",
   "mimetype": "text/x-python",
   "name": "python",
   "nbconvert_exporter": "python",
   "pygments_lexer": "ipython3",
   "version": "3.10.13"
  }
 },
 "nbformat": 4,
 "nbformat_minor": 5
}
