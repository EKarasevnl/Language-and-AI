{
  "cells": [
    {
      "cell_type": "code",
      "execution_count": null,
      "metadata": {
        "id": "e51d30f7"
      },
      "outputs": [],
      "source": [
        "# INSTALL IF NEEDED:\n",
        "\n",
        "!pip install emoji optuna"
      ],
      "id": "e51d30f7"
    },
    {
      "cell_type": "code",
      "execution_count": null,
      "metadata": {
        "id": "xa5Ci0q_bF6o"
      },
      "outputs": [],
      "source": [
        "# CONNECT TO COLAB IF NEEDED:\n",
        "\n",
        "from google.colab import drive\n",
        "import os\n",
        "\n",
        "drive.mount('/content/drive')\n",
        "os.chdir('./drive/MyDrive/data/tue_lai')"
      ],
      "id": "xa5Ci0q_bF6o"
    },
    {
      "cell_type": "markdown",
      "metadata": {
        "id": "e090ae22"
      },
      "source": [
        "## Load the data"
      ],
      "id": "e090ae22"
    },
    {
      "cell_type": "code",
      "execution_count": 3,
      "metadata": {
        "colab": {
          "base_uri": "https://localhost:8080/",
          "height": 206
        },
        "id": "ecb07990",
        "outputId": "4fecf845-a861-451e-dc17-84c84de6cac8"
      },
      "outputs": [
        {
          "output_type": "execute_result",
          "data": {
            "text/plain": [
              "     auhtor_ID                                               post  \\\n",
              "0  t2_7ramzeng  You can \"buy\" the show and stream it through t...   \n",
              "1  t2_7ramzeng  me want to play Q*bert Holy shit, based Alex J...   \n",
              "2  t2_7ramzeng  Shouldn't rely on any external services or per...   \n",
              "3  t2_7ramzeng  PR to a specific person. Usually that just mea...   \n",
              "4  t2_7ramzeng  This article's intention is clear that they wa...   \n",
              "\n",
              "  political_leaning  \n",
              "0             right  \n",
              "1             right  \n",
              "2             right  \n",
              "3             right  \n",
              "4             right  "
            ],
            "text/html": [
              "\n",
              "  <div id=\"df-20f3273d-8bc1-40dd-806a-0c6380a29506\" class=\"colab-df-container\">\n",
              "    <div>\n",
              "<style scoped>\n",
              "    .dataframe tbody tr th:only-of-type {\n",
              "        vertical-align: middle;\n",
              "    }\n",
              "\n",
              "    .dataframe tbody tr th {\n",
              "        vertical-align: top;\n",
              "    }\n",
              "\n",
              "    .dataframe thead th {\n",
              "        text-align: right;\n",
              "    }\n",
              "</style>\n",
              "<table border=\"1\" class=\"dataframe\">\n",
              "  <thead>\n",
              "    <tr style=\"text-align: right;\">\n",
              "      <th></th>\n",
              "      <th>auhtor_ID</th>\n",
              "      <th>post</th>\n",
              "      <th>political_leaning</th>\n",
              "    </tr>\n",
              "  </thead>\n",
              "  <tbody>\n",
              "    <tr>\n",
              "      <th>0</th>\n",
              "      <td>t2_7ramzeng</td>\n",
              "      <td>You can \"buy\" the show and stream it through t...</td>\n",
              "      <td>right</td>\n",
              "    </tr>\n",
              "    <tr>\n",
              "      <th>1</th>\n",
              "      <td>t2_7ramzeng</td>\n",
              "      <td>me want to play Q*bert Holy shit, based Alex J...</td>\n",
              "      <td>right</td>\n",
              "    </tr>\n",
              "    <tr>\n",
              "      <th>2</th>\n",
              "      <td>t2_7ramzeng</td>\n",
              "      <td>Shouldn't rely on any external services or per...</td>\n",
              "      <td>right</td>\n",
              "    </tr>\n",
              "    <tr>\n",
              "      <th>3</th>\n",
              "      <td>t2_7ramzeng</td>\n",
              "      <td>PR to a specific person. Usually that just mea...</td>\n",
              "      <td>right</td>\n",
              "    </tr>\n",
              "    <tr>\n",
              "      <th>4</th>\n",
              "      <td>t2_7ramzeng</td>\n",
              "      <td>This article's intention is clear that they wa...</td>\n",
              "      <td>right</td>\n",
              "    </tr>\n",
              "  </tbody>\n",
              "</table>\n",
              "</div>\n",
              "    <div class=\"colab-df-buttons\">\n",
              "\n",
              "  <div class=\"colab-df-container\">\n",
              "    <button class=\"colab-df-convert\" onclick=\"convertToInteractive('df-20f3273d-8bc1-40dd-806a-0c6380a29506')\"\n",
              "            title=\"Convert this dataframe to an interactive table.\"\n",
              "            style=\"display:none;\">\n",
              "\n",
              "  <svg xmlns=\"http://www.w3.org/2000/svg\" height=\"24px\" viewBox=\"0 -960 960 960\">\n",
              "    <path d=\"M120-120v-720h720v720H120Zm60-500h600v-160H180v160Zm220 220h160v-160H400v160Zm0 220h160v-160H400v160ZM180-400h160v-160H180v160Zm440 0h160v-160H620v160ZM180-180h160v-160H180v160Zm440 0h160v-160H620v160Z\"/>\n",
              "  </svg>\n",
              "    </button>\n",
              "\n",
              "  <style>\n",
              "    .colab-df-container {\n",
              "      display:flex;\n",
              "      gap: 12px;\n",
              "    }\n",
              "\n",
              "    .colab-df-convert {\n",
              "      background-color: #E8F0FE;\n",
              "      border: none;\n",
              "      border-radius: 50%;\n",
              "      cursor: pointer;\n",
              "      display: none;\n",
              "      fill: #1967D2;\n",
              "      height: 32px;\n",
              "      padding: 0 0 0 0;\n",
              "      width: 32px;\n",
              "    }\n",
              "\n",
              "    .colab-df-convert:hover {\n",
              "      background-color: #E2EBFA;\n",
              "      box-shadow: 0px 1px 2px rgba(60, 64, 67, 0.3), 0px 1px 3px 1px rgba(60, 64, 67, 0.15);\n",
              "      fill: #174EA6;\n",
              "    }\n",
              "\n",
              "    .colab-df-buttons div {\n",
              "      margin-bottom: 4px;\n",
              "    }\n",
              "\n",
              "    [theme=dark] .colab-df-convert {\n",
              "      background-color: #3B4455;\n",
              "      fill: #D2E3FC;\n",
              "    }\n",
              "\n",
              "    [theme=dark] .colab-df-convert:hover {\n",
              "      background-color: #434B5C;\n",
              "      box-shadow: 0px 1px 3px 1px rgba(0, 0, 0, 0.15);\n",
              "      filter: drop-shadow(0px 1px 2px rgba(0, 0, 0, 0.3));\n",
              "      fill: #FFFFFF;\n",
              "    }\n",
              "  </style>\n",
              "\n",
              "    <script>\n",
              "      const buttonEl =\n",
              "        document.querySelector('#df-20f3273d-8bc1-40dd-806a-0c6380a29506 button.colab-df-convert');\n",
              "      buttonEl.style.display =\n",
              "        google.colab.kernel.accessAllowed ? 'block' : 'none';\n",
              "\n",
              "      async function convertToInteractive(key) {\n",
              "        const element = document.querySelector('#df-20f3273d-8bc1-40dd-806a-0c6380a29506');\n",
              "        const dataTable =\n",
              "          await google.colab.kernel.invokeFunction('convertToInteractive',\n",
              "                                                    [key], {});\n",
              "        if (!dataTable) return;\n",
              "\n",
              "        const docLinkHtml = 'Like what you see? Visit the ' +\n",
              "          '<a target=\"_blank\" href=https://colab.research.google.com/notebooks/data_table.ipynb>data table notebook</a>'\n",
              "          + ' to learn more about interactive tables.';\n",
              "        element.innerHTML = '';\n",
              "        dataTable['output_type'] = 'display_data';\n",
              "        await google.colab.output.renderOutput(dataTable, element);\n",
              "        const docLink = document.createElement('div');\n",
              "        docLink.innerHTML = docLinkHtml;\n",
              "        element.appendChild(docLink);\n",
              "      }\n",
              "    </script>\n",
              "  </div>\n",
              "\n",
              "\n",
              "<div id=\"df-4e146fa6-f704-4158-8af3-008d323628f1\">\n",
              "  <button class=\"colab-df-quickchart\" onclick=\"quickchart('df-4e146fa6-f704-4158-8af3-008d323628f1')\"\n",
              "            title=\"Suggest charts\"\n",
              "            style=\"display:none;\">\n",
              "\n",
              "<svg xmlns=\"http://www.w3.org/2000/svg\" height=\"24px\"viewBox=\"0 0 24 24\"\n",
              "     width=\"24px\">\n",
              "    <g>\n",
              "        <path d=\"M19 3H5c-1.1 0-2 .9-2 2v14c0 1.1.9 2 2 2h14c1.1 0 2-.9 2-2V5c0-1.1-.9-2-2-2zM9 17H7v-7h2v7zm4 0h-2V7h2v10zm4 0h-2v-4h2v4z\"/>\n",
              "    </g>\n",
              "</svg>\n",
              "  </button>\n",
              "\n",
              "<style>\n",
              "  .colab-df-quickchart {\n",
              "      --bg-color: #E8F0FE;\n",
              "      --fill-color: #1967D2;\n",
              "      --hover-bg-color: #E2EBFA;\n",
              "      --hover-fill-color: #174EA6;\n",
              "      --disabled-fill-color: #AAA;\n",
              "      --disabled-bg-color: #DDD;\n",
              "  }\n",
              "\n",
              "  [theme=dark] .colab-df-quickchart {\n",
              "      --bg-color: #3B4455;\n",
              "      --fill-color: #D2E3FC;\n",
              "      --hover-bg-color: #434B5C;\n",
              "      --hover-fill-color: #FFFFFF;\n",
              "      --disabled-bg-color: #3B4455;\n",
              "      --disabled-fill-color: #666;\n",
              "  }\n",
              "\n",
              "  .colab-df-quickchart {\n",
              "    background-color: var(--bg-color);\n",
              "    border: none;\n",
              "    border-radius: 50%;\n",
              "    cursor: pointer;\n",
              "    display: none;\n",
              "    fill: var(--fill-color);\n",
              "    height: 32px;\n",
              "    padding: 0;\n",
              "    width: 32px;\n",
              "  }\n",
              "\n",
              "  .colab-df-quickchart:hover {\n",
              "    background-color: var(--hover-bg-color);\n",
              "    box-shadow: 0 1px 2px rgba(60, 64, 67, 0.3), 0 1px 3px 1px rgba(60, 64, 67, 0.15);\n",
              "    fill: var(--button-hover-fill-color);\n",
              "  }\n",
              "\n",
              "  .colab-df-quickchart-complete:disabled,\n",
              "  .colab-df-quickchart-complete:disabled:hover {\n",
              "    background-color: var(--disabled-bg-color);\n",
              "    fill: var(--disabled-fill-color);\n",
              "    box-shadow: none;\n",
              "  }\n",
              "\n",
              "  .colab-df-spinner {\n",
              "    border: 2px solid var(--fill-color);\n",
              "    border-color: transparent;\n",
              "    border-bottom-color: var(--fill-color);\n",
              "    animation:\n",
              "      spin 1s steps(1) infinite;\n",
              "  }\n",
              "\n",
              "  @keyframes spin {\n",
              "    0% {\n",
              "      border-color: transparent;\n",
              "      border-bottom-color: var(--fill-color);\n",
              "      border-left-color: var(--fill-color);\n",
              "    }\n",
              "    20% {\n",
              "      border-color: transparent;\n",
              "      border-left-color: var(--fill-color);\n",
              "      border-top-color: var(--fill-color);\n",
              "    }\n",
              "    30% {\n",
              "      border-color: transparent;\n",
              "      border-left-color: var(--fill-color);\n",
              "      border-top-color: var(--fill-color);\n",
              "      border-right-color: var(--fill-color);\n",
              "    }\n",
              "    40% {\n",
              "      border-color: transparent;\n",
              "      border-right-color: var(--fill-color);\n",
              "      border-top-color: var(--fill-color);\n",
              "    }\n",
              "    60% {\n",
              "      border-color: transparent;\n",
              "      border-right-color: var(--fill-color);\n",
              "    }\n",
              "    80% {\n",
              "      border-color: transparent;\n",
              "      border-right-color: var(--fill-color);\n",
              "      border-bottom-color: var(--fill-color);\n",
              "    }\n",
              "    90% {\n",
              "      border-color: transparent;\n",
              "      border-bottom-color: var(--fill-color);\n",
              "    }\n",
              "  }\n",
              "</style>\n",
              "\n",
              "  <script>\n",
              "    async function quickchart(key) {\n",
              "      const quickchartButtonEl =\n",
              "        document.querySelector('#' + key + ' button');\n",
              "      quickchartButtonEl.disabled = true;  // To prevent multiple clicks.\n",
              "      quickchartButtonEl.classList.add('colab-df-spinner');\n",
              "      try {\n",
              "        const charts = await google.colab.kernel.invokeFunction(\n",
              "            'suggestCharts', [key], {});\n",
              "      } catch (error) {\n",
              "        console.error('Error during call to suggestCharts:', error);\n",
              "      }\n",
              "      quickchartButtonEl.classList.remove('colab-df-spinner');\n",
              "      quickchartButtonEl.classList.add('colab-df-quickchart-complete');\n",
              "    }\n",
              "    (() => {\n",
              "      let quickchartButtonEl =\n",
              "        document.querySelector('#df-4e146fa6-f704-4158-8af3-008d323628f1 button');\n",
              "      quickchartButtonEl.style.display =\n",
              "        google.colab.kernel.accessAllowed ? 'block' : 'none';\n",
              "    })();\n",
              "  </script>\n",
              "</div>\n",
              "\n",
              "    </div>\n",
              "  </div>\n"
            ]
          },
          "metadata": {},
          "execution_count": 3
        }
      ],
      "source": [
        "import pandas as pd\n",
        "\n",
        "data_path = 'political_leaning.csv'  # gender / feeling_thinking\n",
        "data = pd.read_csv(data_path)\n",
        "data.head()"
      ],
      "id": "ecb07990"
    },
    {
      "cell_type": "code",
      "execution_count": 4,
      "metadata": {
        "id": "gDfZp3V6fqKC"
      },
      "outputs": [],
      "source": [
        "TARGET_COL = 'political_leaning'  # change for other datasets\n",
        "CLASS_SIZE = 500\n",
        "data_samples = []\n",
        "\n",
        "for val in data[TARGET_COL].unique():\n",
        "    data_samples.append(data[data[TARGET_COL] == val].sample(CLASS_SIZE))\n",
        "data = pd.concat(data_samples)"
      ],
      "id": "gDfZp3V6fqKC"
    },
    {
      "cell_type": "code",
      "execution_count": 5,
      "metadata": {
        "id": "v1z_4JdC1e8i"
      },
      "outputs": [],
      "source": [
        "from sklearn.preprocessing import LabelEncoder\n",
        "from sklearn.model_selection import train_test_split\n",
        "\n",
        "INDEPENDENT_COL = 'post'\n",
        "\n",
        "\n",
        "def label_encode(df, col_name):\n",
        "    label_encoder = LabelEncoder()\n",
        "    df[col_name] = label_encoder.fit_transform(df[col_name])\n",
        "    return df, label_encoder\n",
        "\n",
        "\n",
        "df, le = label_encode(data, TARGET_COL)\n",
        "X_train, X_test, y_train, y_test = train_test_split(df[INDEPENDENT_COL], df[TARGET_COL])"
      ],
      "id": "v1z_4JdC1e8i"
    },
    {
      "cell_type": "markdown",
      "metadata": {
        "id": "6-eaE3phphav"
      },
      "source": [
        "## Data Pipelines"
      ],
      "id": "6-eaE3phphav"
    },
    {
      "cell_type": "code",
      "execution_count": null,
      "metadata": {
        "id": "ff8ea73a"
      },
      "outputs": [],
      "source": [
        "import nltk\n",
        "from nltk.probability import FreqDist\n",
        "from nltk.tokenize import word_tokenize, sent_tokenize\n",
        "from nltk.tag import pos_tag\n",
        "from nltk.corpus import stopwords\n",
        "from nltk.tokenize import word_tokenize, sent_tokenize\n",
        "\n",
        "from sklearn.preprocessing import StandardScaler\n",
        "from sklearn.ensemble import VotingClassifier\n",
        "from sklearn.feature_extraction.text import CountVectorizer\n",
        "from sklearn.linear_model import LogisticRegression, SGDClassifier\n",
        "from sklearn.pipeline import FeatureUnion, Pipeline\n",
        "from sklearn.base import BaseEstimator, TransformerMixin, ClassifierMixin\n",
        "from sklearn.svm import LinearSVC\n",
        "\n",
        "import string\n",
        "import emoji\n",
        "import numpy as np\n",
        "\n",
        "nltk.download(\"punkt\")\n",
        "nltk.download('stopwords')"
      ],
      "id": "ff8ea73a"
    },
    {
      "cell_type": "code",
      "execution_count": 7,
      "metadata": {
        "id": "3a20f966"
      },
      "outputs": [],
      "source": [
        "class StylometryFeatureExtractor(BaseEstimator, TransformerMixin):\n",
        "    def fit(self, X, y=None):\n",
        "        return self\n",
        "\n",
        "    def transform(self, X):\n",
        "        stylometry_features = []\n",
        "        for text in X:\n",
        "            # Tokenize sentences and words\n",
        "            sentences = [word_tokenize(sentence) for sentence in sent_tokenize(text)]\n",
        "            words = [word for sentence in sentences for word in sentence]\n",
        "\n",
        "            # Basic stylometry features\n",
        "            features = {\n",
        "                'sentence_count': len(sentences),\n",
        "                'word_count': len(words),\n",
        "                'avg_sentence_length': len(words) / len(sentences) if len(sentences) > 0 else 0,\n",
        "                'avg_word_length': sum(len(word) for word in words) / len(words) if len(words) > 0 else 0,\n",
        "                'num_punctuation': sum(1 for char in text if char in string.punctuation),\n",
        "                'num_uppercase': sum(1 for char in text if char.isupper()),\n",
        "                'num_digits': sum(1 for char in text if char.isdigit()),\n",
        "                'num_emojis': len([char for char in text if char in emoji.EMOJI_DATA])\n",
        "            }\n",
        "\n",
        "            stylometry_features.append(features)\n",
        "\n",
        "        return pd.DataFrame(stylometry_features)"
      ],
      "id": "3a20f966"
    },
    {
      "cell_type": "code",
      "execution_count": 8,
      "metadata": {
        "id": "-ZR_uLE4yUqb"
      },
      "outputs": [],
      "source": [
        "def get_single_pipeline_data(transformer):\n",
        "    output = dict()\n",
        "    X_processed = transformer.fit_transform(X_train)\n",
        "    split = train_test_split(X_processed, y_train, test_size=0.25,random_state=42)\n",
        "    output['X_train'], output['X_val'], output['y_train'], output['y_val'] = split\n",
        "    output['X_test'] = transformer.transform(X_test)\n",
        "    return output\n",
        "\n",
        "def get_pipeline_data():\n",
        "    result = dict()\n",
        "\n",
        "    bow_transformer = Pipeline([\n",
        "    ('bow', CountVectorizer(stop_words='english')),\n",
        "    ('scaler', StandardScaler(with_mean=False))\n",
        "    ])\n",
        "    result['bow'] = get_single_pipeline_data(CountVectorizer(stop_words='english'))\n",
        "\n",
        "    style_bow_transformer = Pipeline([\n",
        "    ('features', FeatureUnion([\n",
        "        ('text', CountVectorizer(stop_words='english')),\n",
        "        ('stylometry', StylometryFeatureExtractor())\n",
        "    ])),\n",
        "    ('scaler', StandardScaler(with_mean=False))\n",
        "    ])\n",
        "    result['style_bow'] = get_single_pipeline_data(style_bow_transformer)\n",
        "\n",
        "    return result"
      ],
      "id": "-ZR_uLE4yUqb"
    },
    {
      "cell_type": "code",
      "execution_count": 9,
      "metadata": {
        "id": "OgOq7c4nyUfe"
      },
      "outputs": [],
      "source": [
        "pipelines_data = get_pipeline_data()"
      ],
      "id": "OgOq7c4nyUfe"
    },
    {
      "cell_type": "markdown",
      "metadata": {
        "id": "8c34332e"
      },
      "source": [
        "## Utils"
      ],
      "id": "8c34332e"
    },
    {
      "cell_type": "code",
      "execution_count": 10,
      "metadata": {
        "id": "fc5c0743"
      },
      "outputs": [],
      "source": [
        "from sklearn.metrics import confusion_matrix, classification_report, f1_score\n",
        "import matplotlib.pyplot as plt\n",
        "import numpy as np\n",
        "\n",
        "def evaluate_clf(clf, X, y_true, classes, normalize=True, cmap=plt.cm.Blues):\n",
        "    y_pred = clf.predict(X)\n",
        "\n",
        "    print(y_pred.shape, y_true.shape)\n",
        "    print(classification_report(y_true, y_pred))\n",
        "\n",
        "    cm = confusion_matrix(y_true, y_pred)\n",
        "\n",
        "    if normalize:\n",
        "        cm = cm.astype('float') / cm.sum(axis=1)[:, np.newaxis]\n",
        "        title = 'Normalized Confusion Matrix'\n",
        "    else:\n",
        "        title = 'Confusion Matrix'\n",
        "\n",
        "    fig, ax = plt.subplots()\n",
        "    im = ax.imshow(cm, interpolation='nearest', cmap=cmap)\n",
        "    ax.figure.colorbar(im, ax=ax)\n",
        "    ax.set(xticks=np.arange(cm.shape[1]),\n",
        "           yticks=np.arange(cm.shape[0]),\n",
        "           xticklabels=classes, yticklabels=classes,\n",
        "           title=title,\n",
        "           ylabel='True label',\n",
        "           xlabel='Predicted label')\n",
        "\n",
        "    plt.setp(ax.get_xticklabels(), rotation=45, ha=\"right\", rotation_mode=\"anchor\")\n",
        "\n",
        "    fmt = '.2f' if normalize else 'd'\n",
        "    thresh = cm.max() / 2.\n",
        "    for i in range(cm.shape[0]):\n",
        "        for j in range(cm.shape[1]):\n",
        "            ax.text(j, i, format(cm[i, j], fmt),\n",
        "                    ha=\"center\", va=\"center\",\n",
        "                    color=\"white\" if cm[i, j] > thresh else \"black\")\n",
        "\n",
        "    fig.tight_layout()\n",
        "    plt.show()\n"
      ],
      "id": "fc5c0743"
    },
    {
      "cell_type": "code",
      "execution_count": 32,
      "metadata": {
        "id": "QlVMT504v48C"
      },
      "outputs": [],
      "source": [
        "import optuna\n",
        "from sklearn.feature_extraction.text import TfidfVectorizer\n",
        "from sklearn.ensemble import RandomForestClassifier\n",
        "from sklearn.model_selection import cross_val_score\n",
        "from sklearn.metrics import accuracy_score\n",
        "from xgboost import XGBClassifier\n",
        "import xgboost as xgb\n",
        "from functools import partial\n",
        "\n",
        "\n",
        "optuna.logging.set_verbosity(optuna.logging.WARNING)\n",
        "xgb.set_config(verbosity=1)\n",
        "SEED = 0\n",
        "\n",
        "\n",
        "def xgb_objective(trial, data_type, use_gpu=True):\n",
        "    params = {\n",
        "        'objective': 'multi:softmax',\n",
        "        'num_class': 3,\n",
        "        'max_depth': trial.suggest_int('max_depth', 2, 20),\n",
        "        'n_estimators': trial.suggest_int('n_estimators', 10, 1000),\n",
        "        'n_jobs': -1 if not use_gpu else None,\n",
        "        'device': \"cuda\" if use_gpu else None\n",
        "    }\n",
        "\n",
        "    model = XGBClassifier(**params, random_state=42)\n",
        "    model.fit(pipelines_data[data_type]['X_train'], pipelines_data[data_type]['y_train'])\n",
        "    y_pred = model.predict(pipelines_data[data_type]['X_val'])\n",
        "    accuracy = accuracy_score(pipelines_data[data_type]['y_val'], y_pred)\n",
        "    return accuracy\n",
        "\n",
        "\n",
        "def rf_objective(trial, data_type):\n",
        "    params = {\n",
        "        'n_estimators': trial.suggest_int('n_estimators', 10, 1000),\n",
        "        'max_depth': trial.suggest_int('max_depth', 2, 20, log=True)\n",
        "    }\n",
        "\n",
        "    model = RandomForestClassifier(**params, random_state=42)\n",
        "    model.fit(pipelines_data[data_type]['X_train'], pipelines_data[data_type]['y_train'])\n",
        "    y_pred = model.predict(pipelines_data[data_type]['X_val'])\n",
        "    accuracy = accuracy_score(pipelines_data[data_type]['y_val'], y_pred)\n",
        "    return accuracy"
      ],
      "id": "QlVMT504v48C"
    },
    {
      "cell_type": "code",
      "execution_count": 33,
      "metadata": {
        "id": "RHAasZ_wvRPs"
      },
      "outputs": [],
      "source": [
        "def rf_finetuning(data_type='bow'):\n",
        "    partial_objective_rf = partial(rf_objective, data_type=data_type)\n",
        "    study = optuna.create_study(direction='maximize')\n",
        "    study.optimize(partial_objective_rf, n_trials=100)\n",
        "\n",
        "    best_model = RandomForestClassifier(random_state=SEED, **study.best_params)\n",
        "    best_model.fit(pipelines_data[data_type]['X_train'], pipelines_data[data_type]['y_train'])\n",
        "    return best_model\n",
        "\n",
        "def xgb_finetuning(data_type='bow'):\n",
        "    partial_objective_xgb = partial(xgb_objective, data_type=data_type)\n",
        "    study = optuna.create_study(direction='maximize')\n",
        "    study.optimize(partial_objective_xgb, n_trials=10)\n",
        "\n",
        "    best_model = XGBClassifier(random_state=SEED, **study.best_params)\n",
        "    best_model.fit(pipelines_data[data_type]['X_train'], pipelines_data[data_type]['y_train'])\n",
        "    return best_model"
      ],
      "id": "RHAasZ_wvRPs"
    },
    {
      "cell_type": "markdown",
      "metadata": {
        "id": "1zEU7CW9p729"
      },
      "source": [
        "## Training & evaluating"
      ],
      "id": "1zEU7CW9p729"
    },
    {
      "cell_type": "markdown",
      "metadata": {
        "id": "TOCA1B4Kn2rw"
      },
      "source": [
        "### No Style SVM"
      ],
      "id": "TOCA1B4Kn2rw"
    },
    {
      "cell_type": "code",
      "execution_count": null,
      "metadata": {
        "id": "_VIqemcjn05a"
      },
      "outputs": [],
      "source": [
        "data_type = 'bow'\n",
        "clf_base = LinearSVC(max_iter=10 ** 5)\n",
        "clf_base.fit(pipelines_data[data_type]['X_train'], pipelines_data[data_type]['y_train'])\n",
        "evaluate_clf(clf_base, pipelines_data[data_type]['X_test'], y_test, classes=le.classes_)"
      ],
      "id": "_VIqemcjn05a"
    },
    {
      "cell_type": "markdown",
      "source": [
        "### No Style RF/XGB"
      ],
      "metadata": {
        "id": "eBaXQHDiFTVu"
      },
      "id": "eBaXQHDiFTVu"
    },
    {
      "cell_type": "code",
      "source": [
        "data_type = 'bow'\n",
        "bow_rf = rf_finetuning(data_type)\n",
        "evaluate_clf(bow_rf, pipelines_data[data_type]['X_test'], y_test, classes=le.classes_)"
      ],
      "metadata": {
        "id": "kwtqdzdQFYSI"
      },
      "id": "kwtqdzdQFYSI",
      "execution_count": null,
      "outputs": []
    },
    {
      "cell_type": "code",
      "source": [
        "data_type = 'bow'\n",
        "bow_xgb = xgb_finetuning(data_type)\n",
        "evaluate_clf(bow_xgb, pipelines_data[data_type]['X_test'], y_test, classes=le.classes_)"
      ],
      "metadata": {
        "id": "wDUluzePGkoa"
      },
      "id": "wDUluzePGkoa",
      "execution_count": null,
      "outputs": []
    },
    {
      "cell_type": "markdown",
      "source": [
        "### Style SVM"
      ],
      "metadata": {
        "id": "cHEhmfuwFOTE"
      },
      "id": "cHEhmfuwFOTE"
    },
    {
      "cell_type": "code",
      "source": [
        "data_type = 'style_bow'\n",
        "clf_base = LinearSVC(max_iter=10 ** 5)\n",
        "clf_base.fit(pipelines_data[data_type]['X_train'], pipelines_data[data_type]['y_train'])\n",
        "evaluate_clf(clf_base, pipelines_data[data_type]['X_test'], y_test, classes=le.classes_)"
      ],
      "metadata": {
        "id": "Cjm4-886FNJW"
      },
      "id": "Cjm4-886FNJW",
      "execution_count": null,
      "outputs": []
    },
    {
      "cell_type": "markdown",
      "metadata": {
        "id": "17634e53"
      },
      "source": [
        "### Style + RF/XGB"
      ],
      "id": "17634e53"
    },
    {
      "cell_type": "code",
      "execution_count": null,
      "metadata": {
        "id": "xwv16fQhxMfX"
      },
      "outputs": [],
      "source": [
        "data_type = 'style_bow'\n",
        "style_rf = rf_finetuning(data_type)\n",
        "evaluate_clf(style_rf, pipelines_data[data_type]['X_test'], y_test, classes=le.classes_)"
      ],
      "id": "xwv16fQhxMfX"
    },
    {
      "cell_type": "code",
      "execution_count": null,
      "metadata": {
        "id": "C5tViMZZKNIL"
      },
      "outputs": [],
      "source": [
        "data_type = 'style_bow'\n",
        "style_xgb = xgb_finetuning(data_type)\n",
        "evaluate_clf(style_xgb, pipelines_data[data_type]['X_test'], y_test, classes=le.classes_)"
      ],
      "id": "C5tViMZZKNIL"
    },
    {
      "cell_type": "code",
      "source": [],
      "metadata": {
        "id": "x6gBSclQKhbj"
      },
      "id": "x6gBSclQKhbj",
      "execution_count": null,
      "outputs": []
    }
  ],
  "metadata": {
    "colab": {
      "collapsed_sections": [
        "e090ae22",
        "6-eaE3phphav",
        "e32fdb11",
        "8c34332e",
        "1zEU7CW9p729",
        "TOCA1B4Kn2rw",
        "8c58e9a9",
        "583941c6",
        "95530ca4",
        "NA2rw2z_r4Ga",
        "17634e53",
        "fNtsZbCtxNEa"
      ],
      "provenance": [],
      "machine_shape": "hm",
      "gpuType": "V100"
    },
    "kernelspec": {
      "display_name": "Python 3",
      "name": "python3"
    },
    "language_info": {
      "codemirror_mode": {
        "name": "ipython",
        "version": 3
      },
      "file_extension": ".py",
      "mimetype": "text/x-python",
      "name": "python",
      "nbconvert_exporter": "python",
      "pygments_lexer": "ipython3",
      "version": "3.11.3"
    },
    "accelerator": "GPU"
  },
  "nbformat": 4,
  "nbformat_minor": 5
}