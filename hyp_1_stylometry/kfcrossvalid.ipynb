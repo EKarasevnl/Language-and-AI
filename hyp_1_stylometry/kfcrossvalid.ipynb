{
 "cells": [
  {
   "cell_type": "code",
   "execution_count": 1,
   "id": "937afe93-3973-43e2-987c-0acc3977c5f7",
   "metadata": {},
   "outputs": [],
   "source": [
    "from sklearn.model_selection import KFold, StratifiedKFold, GridSearchCV, RandomizedSearchCV, cross_val_score\n",
    "from collections import namedtuple\n",
    "from typing import List, Callable\n",
    "import optuna"
   ]
  },
  {
   "cell_type": "code",
   "execution_count": 2,
   "id": "9c38144a",
   "metadata": {},
   "outputs": [],
   "source": [
    "class EstimatorOpt:\n",
    "    def __init__(self, estimator, hyper_param_cv_callable):\n",
    "        self.hyper_cv = hyper_param_cv_callable\n",
    "        self.estimator = estimator\n",
    "        \n",
    "    def inner(inner_cv):\n",
    "        return self.hyper_cv(estimator=self.estimator, cv=inner_cv)\n",
    "    \n",
    "    def nested(X, y, inner_cv, outer_cv):\n",
    "        clf = self.hyper_cv(inner_cv)\n",
    "        score = cross_val_score(clf, X=X, y=y, cv=outer_cv)\n",
    "        return self.estimator, score"
   ]
  },
  {
   "cell_type": "code",
   "execution_count": 4,
   "id": "a3f88baa-90b8-46b1-b9be-0af92737dd66",
   "metadata": {},
   "outputs": [],
   "source": [
    "def k_fold_nested(estimator_opt: EstimatorOpt, split_strategy: Callable, X, y):\n",
    "    inner_cv = split_strategy()\n",
    "    outer_cv = split_strategy()\n",
    "    estimator, score = estimator_opt.nested(X, y, inner_cv, outer_cv)\n",
    "    return estimator, score\n",
    "\n",
    "def k_fold_nested_model_comparison(estimator_opts: List[EstimatorOpt], split_strategy: Callable, X, y):\n",
    "    inner_cv = split_strategy()\n",
    "    outer_cv = split_strategy()\n",
    "    results = [estimator_opt.nested(X, y, outer_cv, inner_cv) for estimator_opt in estimator_opts]\n",
    "    return results\n",
    "\n",
    "def grid_callable(param_grid):\n",
    "    return lambda estimator, cv: GridSearchCV(estimator=estimator, param_grid=param_grid, cv=cv)\n",
    "\n",
    "def random_search_callable(param_distr):\n",
    "    return lambda estimator, cv: RandomizedSearchCV(estimator=estimator, param_distr=param_distr, cv=cv)\n",
    "\n",
    "def optuna_search_callable(param_distr):\n",
    "    return lambda estimator, cv: optuna.integration.OptunaSearchCV(estimator=estimator, param_distributions=param_distr, cv=cv)\n",
    "\n",
    "def k_fold_strategy(n_splits, shuffle, random_state):\n",
    "    return lambda: KFold(n_splits, shuffle, random_state)\n",
    "\n",
    "def stratified_k_fold_strategy(n_splits, shuffle, random_state):\n",
    "    return lambda: StratifiedKFold(n_splits, shuffle, random_state)"
   ]
  },
  {
   "cell_type": "code",
   "execution_count": null,
   "id": "ca6fdb60-2b12-44d6-a29f-f5be18732578",
   "metadata": {},
   "outputs": [],
   "source": []
  }
 ],
 "metadata": {
  "kernelspec": {
   "display_name": "Python 3 (ipykernel)",
   "language": "python",
   "name": "python3"
  },
  "language_info": {
   "codemirror_mode": {
    "name": "ipython",
    "version": 3
   },
   "file_extension": ".py",
   "mimetype": "text/x-python",
   "name": "python",
   "nbconvert_exporter": "python",
   "pygments_lexer": "ipython3",
   "version": "3.10.10"
  }
 },
 "nbformat": 4,
 "nbformat_minor": 5
}
