{
 "cells": [
  {
   "cell_type": "code",
   "execution_count": 7,
   "id": "937afe93-3973-43e2-987c-0acc3977c5f7",
   "metadata": {},
   "outputs": [],
   "source": [
    "from sklearn.model_selection import KFold, StratifiedKFold, GridSearchCV, RandomizedSearchCV, cross_val_score\n"
   ]
  },
  {
   "cell_type": "code",
   "execution_count": 9,
   "id": "a3f88baa-90b8-46b1-b9be-0af92737dd66",
   "metadata": {},
   "outputs": [],
   "source": [
    "def k_fold_nested(estimator, hyper_param_cv_callable, split_strategy, X, y):\n",
    "    inner_cv = split_strategy()\n",
    "    outer_cv = split_strategy()\n",
    "    clf = hyper_param_cv_callable(estimator=estimator, cv=inner_cv)\n",
    "    score = cross_val_score(clf, X=X, y=y, cv=outer_cv)\n",
    "    return score\n",
    "\n",
    "\n",
    "def grid_callable(param_grid):\n",
    "    return lambda estimator, cv: GridSearchCV(estimator=estimator, param_grid=param_grid, cv=cv)\n",
    "\n",
    "def random_search_callable(param_distr):\n",
    "    return lambda estimator, cv: RandomizedSearchCV(estimator=estimator, param_distr=param_distr, cv=cv)\n",
    "\n",
    "def k_fold_strategy(n_splits, shuffle, random_state):\n",
    "    return lambda: KFold(n_splits, shuffle, random_state)\n",
    "\n",
    "def stratified_k_fold_strategy(n_splits, shuffle, random_state):\n",
    "    return lambda: StratifiedKFold(n_splits, shuffle, random_state)\n",
    "\n",
    "\n"
   ]
  },
  {
   "cell_type": "code",
   "execution_count": null,
   "id": "ca6fdb60-2b12-44d6-a29f-f5be18732578",
   "metadata": {},
   "outputs": [],
   "source": []
  }
 ],
 "metadata": {
  "kernelspec": {
   "display_name": "Python 3 (ipykernel)",
   "language": "python",
   "name": "python3"
  },
  "language_info": {
   "codemirror_mode": {
    "name": "ipython",
    "version": 3
   },
   "file_extension": ".py",
   "mimetype": "text/x-python",
   "name": "python",
   "nbconvert_exporter": "python",
   "pygments_lexer": "ipython3",
   "version": "3.12.1"
  }
 },
 "nbformat": 4,
 "nbformat_minor": 5
}
