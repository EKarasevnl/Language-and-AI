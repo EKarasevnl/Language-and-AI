{
 "cells": [
  {
   "cell_type": "code",
   "execution_count": null,
   "metadata": {},
   "outputs": [],
   "source": [
    "import pandas as pd\n",
    "import spacy\n",
    "from sklearn.pipeline import Pipeline\n",
    "from sklearn.feature_extraction.text import TfidfVectorizer, CountVectorizer\n",
    "from sklearn.svm import LinearSVC, SVC\n",
    "from sklearn.metrics import classification_report\n",
    "import random\n",
    "from nltk.corpus import stopwords\n",
    "from sklearn.model_selection import train_test_split\n",
    "from tqdm.autonotebook import tqdm\n",
    "\n",
    "# Custom imports\n",
    "from helper_functions import evaluate_clf\n",
    "from EDAprep import SynonymReplacementTransformer, RandomInsertionTransformer, RandomSwapTransformer, RandomDeletionTransformer"
   ]
  },
  {
   "cell_type": "code",
   "execution_count": null,
   "metadata": {},
   "outputs": [],
   "source": [
    "DATA_PATH = \"lai-data/political_leaning.csv\"\n",
    "FEATURE = \"political_leaning\""
   ]
  },
  {
   "cell_type": "code",
   "execution_count": null,
   "metadata": {},
   "outputs": [],
   "source": [
    "df_politics = pd.read_csv(DATA_PATH).iloc[:3000] # remove iloc to test full dataset"
   ]
  },
  {
   "cell_type": "code",
   "execution_count": null,
   "metadata": {},
   "outputs": [],
   "source": [
    "X_train, X_test, y_train, y_test = train_test_split(df_politics['post'], df_politics[FEATURE],test_size= 0.3)"
   ]
  },
  {
   "cell_type": "code",
   "execution_count": null,
   "metadata": {},
   "outputs": [],
   "source": [
    "nlp = spacy.load(\"en_core_web_sm\")"
   ]
  },
  {
   "cell_type": "markdown",
   "metadata": {},
   "source": [
    "## 1. BoW SVC model"
   ]
  },
  {
   "cell_type": "code",
   "execution_count": null,
   "metadata": {},
   "outputs": [],
   "source": [
    "clf = Pipeline([\n",
    "    ('vectorizer', CountVectorizer(stop_words='english')),\n",
    "    ('svc', LinearSVC())\n",
    "])"
   ]
  },
  {
   "cell_type": "code",
   "execution_count": null,
   "metadata": {},
   "outputs": [],
   "source": [
    "clf.fit(X_train, y_train)\n",
    "\n",
    "y_pred = clf.predict(X_test)\n",
    "print(classification_report(y_test, y_pred))"
   ]
  },
  {
   "cell_type": "markdown",
   "metadata": {},
   "source": [
    "## 2. BoW SVC with EDA\n",
    "### 2.1 Data augmentation"
   ]
  },
  {
   "cell_type": "code",
   "execution_count": null,
   "metadata": {},
   "outputs": [],
   "source": [
    "# p - % of the sentence to be augmented (good values - 1%, 2%, 5%, 10%, 20%)\n",
    "\n",
    "synonym_replacement_transformer = SynonymReplacementTransformer(p=0.2)\n",
    "random_insertion_transformer = RandomInsertionTransformer(p=0.2)\n",
    "random_swap_transformer = RandomSwapTransformer(p=0.2)\n",
    "random_deletion_transformer = RandomDeletionTransformer(p=0.2)"
   ]
  },
  {
   "cell_type": "code",
   "execution_count": null,
   "metadata": {},
   "outputs": [],
   "source": [
    "stop_words = set(stopwords.words('english'))\n",
    "\n",
    "n_aug = 4 # The number of augmented instances of a sentence (good values - 2, 4, 8, 16)\n",
    "\n",
    "X_train_augmented = []\n",
    "y_train_augmented = []\n",
    "\n",
    "for sentence, label in tqdm(zip(X_train, y_train)):\n",
    "    # augmented_sentences = [sentence]  # Keep the original sentence\n",
    "    augmented_sentences = []\n",
    "    sentence = ' '.join([word for word in sentence.split() if word.lower() not in stop_words])\n",
    "\n",
    "    for _ in range(n_aug):\n",
    "        chosen_operation = random.choice(['SR', 'RI' 'RS', 'RD'])  \n",
    "\n",
    "        if chosen_operation == 'SR':\n",
    "            augmented_sentences.append(synonym_replacement_transformer.transform([sentence])[0])\n",
    "        elif chosen_operation == 'RI':\n",
    "            # augmented_sentences.append(random_insertion_transformer.transform([sentence])[0]) # Insertions take too long\n",
    "            augmented_sentences.append(sentence)\n",
    "        elif chosen_operation == 'RS':\n",
    "            augmented_sentences.append(random_swap_transformer.transform([sentence])[0])\n",
    "        elif chosen_operation == 'RD':\n",
    "            augmented_sentences.append(random_deletion_transformer.transform([sentence])[0])\n",
    "\n",
    "    X_train_augmented.extend(augmented_sentences)\n",
    "    y_train_augmented.extend([label] * len(augmented_sentences))\n"
   ]
  },
  {
   "cell_type": "markdown",
   "metadata": {},
   "source": [
    "### 2.2 BoW SVC with EDA model training and evaluation"
   ]
  },
  {
   "cell_type": "code",
   "execution_count": null,
   "metadata": {},
   "outputs": [],
   "source": [
    "# Your pipeline with data augmentation\n",
    "clfEDA = Pipeline([\n",
    "    ('vectorizer', CountVectorizer(stop_words='english')),\n",
    "    ('svc', LinearSVC())\n",
    "])\n",
    "\n",
    "# Fit the model with augmented data\n",
    "clfEDA.fit(X_train_augmented, y_train_augmented)"
   ]
  },
  {
   "cell_type": "code",
   "execution_count": null,
   "metadata": {},
   "outputs": [],
   "source": [
    "y_pred = clfEDA.predict(X_test)\n",
    "print(classification_report(y_test, y_pred))"
   ]
  }
 ],
 "metadata": {
  "kernelspec": {
   "display_name": "Python 3",
   "language": "python",
   "name": "python3"
  },
  "language_info": {
   "codemirror_mode": {
    "name": "ipython",
    "version": 3
   },
   "file_extension": ".py",
   "mimetype": "text/x-python",
   "name": "python",
   "nbconvert_exporter": "python",
   "pygments_lexer": "ipython3",
   "version": "3.10.12"
  }
 },
 "nbformat": 4,
 "nbformat_minor": 2
}
